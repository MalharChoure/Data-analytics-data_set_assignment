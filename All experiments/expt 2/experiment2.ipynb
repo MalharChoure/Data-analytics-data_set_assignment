{
 "cells": [
  {
   "cell_type": "markdown",
   "id": "5bddc86c-b7db-4550-8f1b-97437de954f9",
   "metadata": {},
   "source": [
    "# Experiment No 2 Exporting and manipulating the data in python\n",
    "## Roll No :- 22354   Name : Malhar Choure\n",
    "## Performance Date : 9/02/2022\n",
    "## Submission Date : 16/02/2022"
   ]
  },
  {
   "cell_type": "code",
   "execution_count": 3,
   "id": "37d5c36f",
   "metadata": {},
   "outputs": [],
   "source": [
    "import pandas as pd\n",
    "import numpy as np"
   ]
  },
  {
   "cell_type": "code",
   "execution_count": 66,
   "id": "36304b48",
   "metadata": {},
   "outputs": [
    {
     "name": "stdout",
     "output_type": "stream",
     "text": [
      "Enter the number students whose data needs to be maintained\n"
     ]
    }
   ],
   "source": [
    "print(\"Enter the number students whose data needs to be maintained\")"
   ]
  },
  {
   "cell_type": "code",
   "execution_count": 67,
   "id": "cb7dcf83",
   "metadata": {},
   "outputs": [
    {
     "name": "stdout",
     "output_type": "stream",
     "text": [
      "2\n"
     ]
    }
   ],
   "source": [
    "n=int(input())"
   ]
  },
  {
   "cell_type": "code",
   "execution_count": 68,
   "id": "86fc538d",
   "metadata": {},
   "outputs": [],
   "source": [
    "name=[]\n",
    "roll_no=[]\n",
    "division=[]\n",
    "batch=[]\n",
    "data={\"Name\":name,\"Roll no\":roll_no,\"Division\":division,\"Batch\":batch}"
   ]
  },
  {
   "cell_type": "code",
   "execution_count": 69,
   "id": "2b22cc02",
   "metadata": {},
   "outputs": [
    {
     "name": "stdout",
     "output_type": "stream",
     "text": [
      "Enter your name: Malhar \n",
      "Enter your roll no: 22354\n",
      "Enter your division: SE-7\n",
      "Enter your batch: G-7\n",
      "Enter your name: Kaustubh\n",
      "Enter your roll no: 22353\n",
      "Enter your division: SE-7\n",
      "Enter your batch: G-7\n"
     ]
    }
   ],
   "source": [
    "for i in range(n):\n",
    "    data[\"Name\"].append(input(\"Enter your name: \"))\n",
    "    data[\"Roll no\"].append(input(\"Enter your roll no: \"))\n",
    "    data[\"Division\"].append(input(\"Enter your division: \"))\n",
    "    data[\"Batch\"].append(input(\"Enter your batch: \"))"
   ]
  },
  {
   "cell_type": "code",
   "execution_count": 70,
   "id": "a912c74c",
   "metadata": {},
   "outputs": [
    {
     "name": "stdout",
     "output_type": "stream",
     "text": [
      "       Name Roll no Division Batch\n",
      "0   Malhar    22354     SE-7   G-7\n",
      "1  Kaustubh   22353     SE-7   G-7\n"
     ]
    }
   ],
   "source": [
    "fileinfo=pd.DataFrame(data)\n",
    "print(fileinfo)"
   ]
  },
  {
   "cell_type": "code",
   "execution_count": 71,
   "id": "02de7405",
   "metadata": {},
   "outputs": [],
   "source": [
    "path=\"C:/Users/malhar/Documents/DA pyhton programs/expt 2/student_data.csv\"\n",
    "pd.DataFrame.to_csv(fileinfo,path)"
   ]
  },
  {
   "cell_type": "code",
   "execution_count": null,
   "id": "9e33de7a",
   "metadata": {},
   "outputs": [],
   "source": []
  }
 ],
 "metadata": {
  "kernelspec": {
   "display_name": "Python 3 (ipykernel)",
   "language": "python",
   "name": "python3"
  },
  "language_info": {
   "codemirror_mode": {
    "name": "ipython",
    "version": 3
   },
   "file_extension": ".py",
   "mimetype": "text/x-python",
   "name": "python",
   "nbconvert_exporter": "python",
   "pygments_lexer": "ipython3",
   "version": "3.9.7"
  }
 },
 "nbformat": 4,
 "nbformat_minor": 5
}
